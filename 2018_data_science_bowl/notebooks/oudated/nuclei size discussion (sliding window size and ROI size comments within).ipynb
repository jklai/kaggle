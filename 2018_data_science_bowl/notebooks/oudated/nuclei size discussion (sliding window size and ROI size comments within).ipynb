{
 "cells": [
  {
   "cell_type": "code",
   "execution_count": 2,
   "metadata": {
    "collapsed": true
   },
   "outputs": [],
   "source": [
    "# scikit-image already included in the requirements\n",
    "from skimage import color\n",
    "from skimage.transform import rescale, resize, downscale_local_mean\n",
    "import matplotlib.pyplot as plt\n",
    "%matplotlib inline"
   ]
  },
  {
   "cell_type": "code",
   "execution_count": 3,
   "metadata": {
    "collapsed": true
   },
   "outputs": [],
   "source": [
    "import sys\n",
    "import os\n",
    "sys.path.insert(0, os.path.join('..','..','src'))\n",
    "import numpy as np\n",
    "import pandas as pd"
   ]
  },
  {
   "cell_type": "code",
   "execution_count": 4,
   "metadata": {
    "collapsed": true
   },
   "outputs": [],
   "source": [
    "from utils import kaggle_reader as kr"
   ]
  },
  {
   "cell_type": "code",
   "execution_count": 5,
   "metadata": {
    "collapsed": true
   },
   "outputs": [],
   "source": [
    "homepath = os.path.join('..','..')\n",
    "f = os.path.join(homepath,'data','raw','stage1_train_labels.csv')\n",
    "decodedlabels = kr.read_kaggle_csv(f)\n",
    "# load all the images into gray scale\n",
    "impath = os.path.join(homepath, 'data', 'raw', 'stage1_train')\n",
    "imgDF = kr.load_all_images(impath, mode='RGB')\n",
    "# find nuclei bounding box information\n",
    "boxDF = kr.find_mask_bounding_box(decodedlabels, imgDF)"
   ]
  },
  {
   "cell_type": "markdown",
   "metadata": {},
   "source": [
    "The sizes of nuclei varies a lot. Below is a histogram showing the variation of nuclei sizes."
   ]
  },
  {
   "cell_type": "code",
   "execution_count": 6,
   "metadata": {},
   "outputs": [
    {
     "data": {
      "text/plain": [
       "<matplotlib.legend.Legend at 0x1c6f8a4dcf8>"
      ]
     },
     "execution_count": 6,
     "metadata": {},
     "output_type": "execute_result"
    },
    {
     "data": {
      "image/png": "[encoded data removed]",
      "text/plain": [
       "<matplotlib.figure.Figure at 0x1c6dfcc6a20>"
      ]
     },
     "metadata": {},
     "output_type": "display_data"
    }
   ],
   "source": [
    "plt.hist(boxDF.boxH, bins=20)\n",
    "plt.hist(boxDF.boxW, bins=20)\n",
    "plt.xlabel('dimension, in pixels')\n",
    "plt.legend(['box height', 'box width'])"
   ]
  },
  {
   "cell_type": "code",
   "execution_count": 7,
   "metadata": {
    "collapsed": true
   },
   "outputs": [],
   "source": [
    "boxDF = boxDF.assign(boxHoW = boxDF.boxH/boxDF.boxW)"
   ]
  },
  {
   "cell_type": "code",
   "execution_count": 8,
   "metadata": {},
   "outputs": [
    {
     "data": {
      "text/html": [
       "<div>\n",
       "<style>\n",
       "    .dataframe thead tr:only-child th {\n",
       "        text-align: right;\n",
       "    }\n",
       "\n",
       "    .dataframe thead th {\n",
       "        text-align: left;\n",
       "    }\n",
       "\n",
       "    .dataframe tbody tr th {\n",
       "        vertical-align: top;\n",
       "    }\n",
       "</style>\n",
       "<table border=\"1\" class=\"dataframe\">\n",
       "  <thead>\n",
       "    <tr style=\"text-align: right;\">\n",
       "      <th></th>\n",
       "      <th>boxH</th>\n",
       "      <th>boxW</th>\n",
       "      <th>boxHoW</th>\n",
       "    </tr>\n",
       "  </thead>\n",
       "  <tbody>\n",
       "    <tr>\n",
       "      <th>0.05</th>\n",
       "      <td>7.0</td>\n",
       "      <td>7.0</td>\n",
       "      <td>0.500000</td>\n",
       "    </tr>\n",
       "    <tr>\n",
       "      <th>0.10</th>\n",
       "      <td>9.0</td>\n",
       "      <td>9.0</td>\n",
       "      <td>0.618421</td>\n",
       "    </tr>\n",
       "    <tr>\n",
       "      <th>0.20</th>\n",
       "      <td>11.0</td>\n",
       "      <td>11.0</td>\n",
       "      <td>0.750000</td>\n",
       "    </tr>\n",
       "    <tr>\n",
       "      <th>0.50</th>\n",
       "      <td>20.0</td>\n",
       "      <td>21.0</td>\n",
       "      <td>1.000000</td>\n",
       "    </tr>\n",
       "    <tr>\n",
       "      <th>0.90</th>\n",
       "      <td>39.0</td>\n",
       "      <td>40.0</td>\n",
       "      <td>1.555556</td>\n",
       "    </tr>\n",
       "    <tr>\n",
       "      <th>0.95</th>\n",
       "      <td>51.0</td>\n",
       "      <td>51.0</td>\n",
       "      <td>1.875000</td>\n",
       "    </tr>\n",
       "  </tbody>\n",
       "</table>\n",
       "</div>"
      ],
      "text/plain": [
       "      boxH  boxW    boxHoW\n",
       "0.05   7.0   7.0  0.500000\n",
       "0.10   9.0   9.0  0.618421\n",
       "0.20  11.0  11.0  0.750000\n",
       "0.50  20.0  21.0  1.000000\n",
       "0.90  39.0  40.0  1.555556\n",
       "0.95  51.0  51.0  1.875000"
      ]
     },
     "execution_count": 8,
     "metadata": {},
     "output_type": "execute_result"
    }
   ],
   "source": [
    "boxDF[['boxH','boxW', 'boxHoW']].quantile([0.05, 0.1, 0.2, 0.5, 0.9, 0.95])"
   ]
  },
  {
   "cell_type": "markdown",
   "metadata": {},
   "source": [
    "Proposal: \n",
    "\n",
    "Since bounding boxes for most nucleis have a near 1:1 aspect ratio we choose 1:1 as the sliding window aspect ratio. We can set an aspect ratio cutoff to discard very elongated nucleis in the first model. This will simplify the discussion on nuclei sizes to inlcude and sliding window sizes."
   ]
  },
  {
   "cell_type": "code",
   "execution_count": 9,
   "metadata": {},
   "outputs": [
    {
     "data": {
      "text/html": [
       "<div>\n",
       "<style>\n",
       "    .dataframe thead tr:only-child th {\n",
       "        text-align: right;\n",
       "    }\n",
       "\n",
       "    .dataframe thead th {\n",
       "        text-align: left;\n",
       "    }\n",
       "\n",
       "    .dataframe tbody tr th {\n",
       "        vertical-align: top;\n",
       "    }\n",
       "</style>\n",
       "<table border=\"1\" class=\"dataframe\">\n",
       "  <thead>\n",
       "    <tr style=\"text-align: right;\">\n",
       "      <th></th>\n",
       "      <th>boxH</th>\n",
       "      <th>boxW</th>\n",
       "    </tr>\n",
       "  </thead>\n",
       "  <tbody>\n",
       "    <tr>\n",
       "      <th>0.05</th>\n",
       "      <td>7.0</td>\n",
       "      <td>7.0</td>\n",
       "    </tr>\n",
       "    <tr>\n",
       "      <th>0.10</th>\n",
       "      <td>9.0</td>\n",
       "      <td>9.0</td>\n",
       "    </tr>\n",
       "    <tr>\n",
       "      <th>0.20</th>\n",
       "      <td>12.0</td>\n",
       "      <td>12.0</td>\n",
       "    </tr>\n",
       "    <tr>\n",
       "      <th>0.50</th>\n",
       "      <td>21.0</td>\n",
       "      <td>21.0</td>\n",
       "    </tr>\n",
       "    <tr>\n",
       "      <th>0.90</th>\n",
       "      <td>40.0</td>\n",
       "      <td>40.0</td>\n",
       "    </tr>\n",
       "    <tr>\n",
       "      <th>0.95</th>\n",
       "      <td>51.0</td>\n",
       "      <td>51.0</td>\n",
       "    </tr>\n",
       "  </tbody>\n",
       "</table>\n",
       "</div>"
      ],
      "text/plain": [
       "      boxH  boxW\n",
       "0.05   7.0   7.0\n",
       "0.10   9.0   9.0\n",
       "0.20  12.0  12.0\n",
       "0.50  21.0  21.0\n",
       "0.90  40.0  40.0\n",
       "0.95  51.0  51.0"
      ]
     },
     "execution_count": 9,
     "metadata": {},
     "output_type": "execute_result"
    }
   ],
   "source": [
    "# filter out aspect ration less than 0.5 and larger than 2\n",
    "aspectRatio_filtered_boxDF = boxDF[(boxDF.boxHoW > 0.5) & (boxDF.boxHoW < 2)]\n",
    "aspectRatio_filtered_boxDF[['boxH', 'boxW']].quantile([0.05, 0.1, 0.2, 0.5, 0.9, 0.95])"
   ]
  },
  {
   "cell_type": "markdown",
   "metadata": {},
   "source": [
    "Now we can look at the size of the maximum dimension (e.g., for a 1:1 box it is both width and height and for a tall box it is the height) of all the bonding boxes to try to find a good sliding window size"
   ]
  },
  {
   "cell_type": "code",
   "execution_count": 10,
   "metadata": {},
   "outputs": [
    {
     "data": {
      "text/plain": [
       "(array([  3.86300000e+03,   6.01000000e+03,   4.89600000e+03,\n",
       "          4.60900000e+03,   3.45700000e+03,   1.29600000e+03,\n",
       "          5.33000000e+02,   6.45000000e+02,   6.34000000e+02,\n",
       "          3.42000000e+02,   1.83000000e+02,   5.30000000e+01,\n",
       "          1.90000000e+01,   1.00000000e+01,   1.20000000e+01,\n",
       "          1.00000000e+01,   4.00000000e+00,   4.00000000e+00,\n",
       "          1.00000000e+00,   1.00000000e+00]),\n",
       " array([   5. ,   11.7,   18.4,   25.1,   31.8,   38.5,   45.2,   51.9,\n",
       "          58.6,   65.3,   72. ,   78.7,   85.4,   92.1,   98.8,  105.5,\n",
       "         112.2,  118.9,  125.6,  132.3,  139. ]),\n",
       " <a list of 20 Patch objects>)"
      ]
     },
     "execution_count": 10,
     "metadata": {},
     "output_type": "execute_result"
    },
    {
     "data": {
      "image/png": "[encoded data removed]",
      "text/plain": [
       "<matplotlib.figure.Figure at 0x1c6dfcc69e8>"
      ]
     },
     "metadata": {},
     "output_type": "display_data"
    }
   ],
   "source": [
    "plt.hist(np.amax(aspectRatio_filtered_boxDF[['boxH', 'boxW']], axis=1), bins=20)"
   ]
  },
  {
   "cell_type": "code",
   "execution_count": 11,
   "metadata": {},
   "outputs": [
    {
     "data": {
      "text/plain": [
       "0.05     8.0\n",
       "0.10    10.0\n",
       "0.20    13.0\n",
       "0.50    23.0\n",
       "0.90    44.0\n",
       "0.95    58.0\n",
       "dtype: float64"
      ]
     },
     "execution_count": 11,
     "metadata": {},
     "output_type": "execute_result"
    }
   ],
   "source": [
    "np.amax(aspectRatio_filtered_boxDF[['boxH', 'boxW']], axis=1).quantile([0.05, 0.1, 0.2, 0.5, 0.9, 0.95])"
   ]
  },
  {
   "cell_type": "markdown",
   "metadata": {},
   "source": [
    "If we want to cover 80% of the nucleis we need to include sizes from 10x10 to 44x44. However, this includes 35 size classes. If we were to choose a window size of 10x10 then we need to downsize the nucleis of size 45x45 more than 20 times and potentially loose a lot of information. One could argue that the losss of information is too much and we ought to choose a larger window size so less compression occurs. If we were to choose a larger window we need to pad the nuclei with smaller dimensions so they can fit the window. Otherwise we would practically give up on training those examples and identify them from test/validation images. \n",
    "\n",
    "At the moment the window size is still an open question. We can leave the actual window size open for now and write a script to be able to adapt to different window sizes. We can start with a relatively large window size and discard smaller samples for simplicity. This would produce a reduced training set for us to test algorithms. \n",
    "\n",
    "Suppose we were to use window size of 20x20 (the output below shows that equates to about 54% of the total nuclei in the raw training set; also represented by the red dots in the plot below). To preprocess the ROI extractions for training we need to pad the bounding boxes for nucleis and/or resize the extractions to fit into a 20x20 size. We do this in the following steps:\n",
    "0. find bounding box dimensions boxH, boxW, and aspection ratio boxHoW = boxH/boxW\n",
    "1. filter out nuclei with boxHoW < 0.5 and boxHoW > 2\n",
    "2. extract maxdim = max(boxH, boxW) for each box\n",
    "3. if maxdim < 20, discard image\n",
    "   if 20 <= maxdim, patch the extraction to size maxdim x maxdim\n",
    "4. rescale extractions larger than 20x20 to 20x20\n",
    "This produces ROIs with size 20x20."
   ]
  },
  {
   "cell_type": "code",
   "execution_count": 12,
   "metadata": {},
   "outputs": [
    {
     "data": {
      "text/plain": [
       "0.5420725705169546"
      ]
     },
     "execution_count": 12,
     "metadata": {},
     "output_type": "execute_result"
    }
   ],
   "source": [
    "aspectRatio_filtered_boxDF = aspectRatio_filtered_boxDF.assign(maxDim = np.amax(aspectRatio_filtered_boxDF[['boxH', 'boxW']], \n",
    "                                                                                axis=1))\n",
    "size_aspectRatio_filtered_boxDF = aspectRatio_filtered_boxDF[aspectRatio_filtered_boxDF.maxDim>=20]\n",
    "len(size_aspectRatio_filtered_boxDF) / len(boxDF)"
   ]
  },
  {
   "cell_type": "code",
   "execution_count": 13,
   "metadata": {},
   "outputs": [
    {
     "data": {
      "image/png": "[encoded data removed]",
      "text/plain": [
       "<matplotlib.figure.Figure at 0x1c6dfcc6f28>"
      ]
     },
     "metadata": {},
     "output_type": "display_data"
    }
   ],
   "source": [
    "plt.semilogy(np.amax(boxDF[['boxH', 'boxW']], axis=1), boxDF.boxHoW, '.k')\n",
    "plt.semilogy(np.amax(size_aspectRatio_filtered_boxDF[['boxH', 'boxW']], axis=1), \n",
    "             size_aspectRatio_filtered_boxDF.boxHoW, '.r')\n",
    "plt.xlabel('max(box height, box width)')\n",
    "plt.ylabel('box height to width ratio')\n",
    "plt.grid()"
   ]
  },
  {
   "cell_type": "code",
   "execution_count": 53,
   "metadata": {},
   "outputs": [],
   "source": [
    "from utils import kaggle_io\n",
    "\n",
    "def scale_all_ROI(root_roi_path, min_box_size, colormode):\n",
    "    # root_roi_path: path to the root folder containing all ROIs, organized by image \n",
    "    # (populated by /data/extract_roi_from_split.py)\n",
    "    # min_box_size: minimum box size to use, anything smaller is discarded, anything larger is\n",
    "    # rescaled to match the size\n",
    "    # colormode: mode to load the image files\n",
    "    # return: dataframe containing all resized roi image data and associated image ID.\n",
    "    \n",
    "    # find the directory names of the images (that contains ROIs)\n",
    "    imdirs = [d for d in os.listdir(root_roi_path)\n",
    "              if os.path.isdir(os.path.join(root_roi_path, d))]\n",
    "    \n",
    "    imageids = []\n",
    "    resized_rois = []\n",
    "    downscale_ratio = []\n",
    "    original_rois = []\n",
    "    \n",
    "    for imdir in imdirs:\n",
    "        # find all roi image file names under the image folder\n",
    "        roi_files = [f for f in os.listdir(os.path.join(root_roi_path, imdir))\n",
    "                    if ('.png' in f)]\n",
    "        for roi in roi_files:\n",
    "            roi_image = kaggle_io.png_to_pixel_matrix(os.path.join(root_roi_path, imdir, roi), mode = colormode)\n",
    "            dimensions = roi_image.shape\n",
    "            maxdim = max(dimensions[:1])\n",
    "            if (maxdim < min_box_size) or (dimensions[0] != dimensions[1]):\n",
    "                # if max dimension of box is smaller than cutoff or box is not squre (means it is on the edge of an image)\n",
    "                # discard\n",
    "                continue\n",
    "            else:\n",
    "                # otherwise resize the image to the size specificed by min_box_size\n",
    "                original_rois.append(roi_image)\n",
    "                roi_resized = resize(roi_image, (maxdim, maxdim), anti_aliasing=True)\n",
    "                # and save ImageId for the nuclei (may not be necessary) and resized ROI image data\n",
    "                imageids.append(imdir)\n",
    "                resized_rois.append(roi_resized)\n",
    "                downscale_ratio.append(min_box_size / maxdim)\n",
    "\n",
    "            \n",
    "    # read the ROI with kaggle_io\n",
    "    # images = [kaggle_io.png_to_pixel_matrix(os.path.join(roi_path, im, im + '.png'), mode=mode)\n",
    "    #        for im in imdirs]\n",
    "    return pd.DataFrame(list(zip(imageids, resized_rois, original_rois, downscale_ratio)), \n",
    "                        columns=['ImageId', 'resized_ROI', 'original_ROI', 'downscale_ratio'])\n",
    "    "
   ]
  },
  {
   "cell_type": "code",
   "execution_count": 54,
   "metadata": {},
   "outputs": [
    {
     "ename": "TypeError",
     "evalue": "resize() got an unexpected keyword argument 'anti_aliasing'",
     "traceback": [
      "\u001b[1;31m---------------------------------------------------------------------------\u001b[0m",
      "\u001b[1;31mTypeError\u001b[0m                                 Traceback (most recent call last)",
      "\u001b[1;32m<ipython-input-54-f4ed608999c4>\u001b[0m in \u001b[0;36m<module>\u001b[1;34m()\u001b[0m\n\u001b[1;32m----> 1\u001b[1;33m \u001b[0mroidf\u001b[0m \u001b[1;33m=\u001b[0m \u001b[0mscale_all_ROI\u001b[0m\u001b[1;33m(\u001b[0m\u001b[1;34m'../../data/roi/'\u001b[0m\u001b[1;33m,\u001b[0m \u001b[1;36m20\u001b[0m\u001b[1;33m,\u001b[0m \u001b[1;34m'RGB'\u001b[0m\u001b[1;33m)\u001b[0m\u001b[1;33m\u001b[0m\u001b[0m\n\u001b[0m",
      "\u001b[1;32m<ipython-input-53-e6a1aaa3a584>\u001b[0m in \u001b[0;36mscale_all_ROI\u001b[1;34m(root_roi_path, min_box_size, colormode)\u001b[0m\n\u001b[0;32m     33\u001b[0m                 \u001b[1;31m# otherwise resize the image to the size specificed by min_box_size\u001b[0m\u001b[1;33m\u001b[0m\u001b[1;33m\u001b[0m\u001b[0m\n\u001b[0;32m     34\u001b[0m                 \u001b[0moriginal_rois\u001b[0m\u001b[1;33m.\u001b[0m\u001b[0mappend\u001b[0m\u001b[1;33m(\u001b[0m\u001b[0mroi_image\u001b[0m\u001b[1;33m)\u001b[0m\u001b[1;33m\u001b[0m\u001b[0m\n\u001b[1;32m---> 35\u001b[1;33m                 \u001b[0mroi_resized\u001b[0m \u001b[1;33m=\u001b[0m \u001b[0mresize\u001b[0m\u001b[1;33m(\u001b[0m\u001b[0mroi_image\u001b[0m\u001b[1;33m,\u001b[0m \u001b[1;33m(\u001b[0m\u001b[0mmaxdim\u001b[0m\u001b[1;33m,\u001b[0m \u001b[0mmaxdim\u001b[0m\u001b[1;33m)\u001b[0m\u001b[1;33m,\u001b[0m \u001b[0manti_aliasing\u001b[0m\u001b[1;33m=\u001b[0m\u001b[1;32mTrue\u001b[0m\u001b[1;33m)\u001b[0m\u001b[1;33m\u001b[0m\u001b[0m\n\u001b[0m\u001b[0;32m     36\u001b[0m                 \u001b[1;31m# and save ImageId for the nuclei (may not be necessary) and resized ROI image data\u001b[0m\u001b[1;33m\u001b[0m\u001b[1;33m\u001b[0m\u001b[0m\n\u001b[0;32m     37\u001b[0m                 \u001b[0mimageids\u001b[0m\u001b[1;33m.\u001b[0m\u001b[0mappend\u001b[0m\u001b[1;33m(\u001b[0m\u001b[0mimdir\u001b[0m\u001b[1;33m)\u001b[0m\u001b[1;33m\u001b[0m\u001b[0m\n",
      "\u001b[1;31mTypeError\u001b[0m: resize() got an unexpected keyword argument 'anti_aliasing'"
     ],
     "output_type": "error"
    }
   ],
   "source": [
    "roidf = scale_all_ROI('../../data/roi/', 20, 'RGB')"
   ]
  },
  {
   "cell_type": "code",
   "execution_count": 39,
   "metadata": {},
   "outputs": [
    {
     "data": {
      "text/plain": [
       "(20, 20, 3)"
      ]
     },
     "execution_count": 39,
     "metadata": {},
     "output_type": "execute_result"
    }
   ],
   "source": [
    "roidf.resized_ROI[0].shape"
   ]
  },
  {
   "cell_type": "code",
   "execution_count": 43,
   "metadata": {},
   "outputs": [],
   "source": [
    "maxdownscale_roi = roidf.sort_values('downscale_ratio').iloc[0]"
   ]
  },
  {
   "cell_type": "code",
   "execution_count": 48,
   "metadata": {},
   "outputs": [
    {
     "data": {
      "text/plain": [
       "Text(0.5,1,'original')"
      ]
     },
     "execution_count": 48,
     "metadata": {},
     "output_type": "execute_result"
    },
    {
     "data": {
      "image/png": "[encoded data removed]",
      "text/plain": [
       "<matplotlib.figure.Figure at 0x1c6ecbc50b8>"
      ]
     },
     "metadata": {},
     "output_type": "display_data"
    }
   ],
   "source": [
    "# check the image of the most heavily resized ROI, compared to its original\n",
    "plt.subplot(1,2,1)\n",
    "plt.imshow(maxdownscale_roi['resized_ROI'])\n",
    "plt.title('rescaled: '+str(maxdownscale_roi['downscale_ratio']))\n",
    "plt.subplot(1,2,2)\n",
    "plt.imshow(maxdownscale_roi['original_ROI'])\n",
    "plt.title('original')"
   ]
  },
  {
   "cell_type": "code",
   "execution_count": 49,
   "metadata": {},
   "outputs": [
    {
     "name": "stderr",
     "output_type": "stream",
     "text": [
      "C:\\Users\\YOUY\\AppData\\Local\\Continuum\\anaconda3\\lib\\site-packages\\skimage\\transform\\_warps.py:84: UserWarning: The default mode, 'constant', will be changed to 'reflect' in skimage 0.15.\n",
      "  warn(\"The default mode, 'constant', will be changed to 'reflect' in \"\n"
     ]
    }
   ],
   "source": [
    "roidf = scale_all_ROI('../../data/roi/', 10, 'RGB')"
   ]
  },
  {
   "cell_type": "code",
   "execution_count": 50,
   "metadata": {},
   "outputs": [
    {
     "data": {
      "text/plain": [
       "Text(0.5,1,'original')"
      ]
     },
     "execution_count": 50,
     "metadata": {},
     "output_type": "execute_result"
    },
    {
     "data": {
      "image/png": "[encoded data removed]",
      "text/plain": [
       "<matplotlib.figure.Figure at 0x1c6ed2e61d0>"
      ]
     },
     "metadata": {},
     "output_type": "display_data"
    }
   ],
   "source": [
    "maxdownscale_roi = roidf.sort_values('downscale_ratio').iloc[0]\n",
    "# check the image of the most heavily resized ROI, compared to its original\n",
    "plt.subplot(1,2,1)\n",
    "plt.imshow(maxdownscale_roi['resized_ROI'])\n",
    "plt.title('rescaled: '+str(maxdownscale_roi['downscale_ratio']))\n",
    "plt.subplot(1,2,2)\n",
    "plt.imshow(maxdownscale_roi['original_ROI'])\n",
    "plt.title('original')"
   ]
  },
  {
   "cell_type": "code",
   "execution_count": 55,
   "metadata": {
    "collapsed": true
   },
   "outputs": [],
   "source": [
    "import skimage"
   ]
  },
  {
   "cell_type": "code",
   "execution_count": 56,
   "metadata": {},
   "outputs": [
    {
     "data": {
      "text/plain": [
       "'0.13.0'"
      ]
     },
     "execution_count": 56,
     "metadata": {},
     "output_type": "execute_result"
    }
   ],
   "source": [
    "skimage.__version__"
   ]
  },
  {
   "cell_type": "code",
   "execution_count": null,
   "metadata": {
    "collapsed": true
   },
   "outputs": [],
   "source": []
  }
 ],
 "metadata": {
  "kernelspec": {
   "display_name": "Python 3",
   "language": "python",
   "name": "python3"
  },
  "language_info": {
   "codemirror_mode": {
    "name": "ipython",
    "version": 3
   },
   "file_extension": ".py",
   "mimetype": "text/x-python",
   "name": "python",
   "nbconvert_exporter": "python",
   "pygments_lexer": "ipython3",
   "version": "3.6.3"
  }
 },
 "nbformat": 4,
 "nbformat_minor": 2
}
